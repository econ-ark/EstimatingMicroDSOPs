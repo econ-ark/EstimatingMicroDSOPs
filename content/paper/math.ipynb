{
 "cells": [
  {
   "cell_type": "code",
   "execution_count": 421,
   "metadata": {},
   "outputs": [],
   "source": [
    "from __future__ import annotations\n",
    "\n",
    "from sympy import *\n",
    "from sympy.plotting import plot"
   ]
  },
  {
   "cell_type": "code",
   "execution_count": 422,
   "metadata": {},
   "outputs": [],
   "source": [
    "c, a, x = symbols(\"c a x\")\n",
    "rho, delta = symbols(\"rho delta\")"
   ]
  },
  {
   "cell_type": "code",
   "execution_count": 423,
   "metadata": {},
   "outputs": [
    {
     "data": {
      "text/latex": [
       "$\\displaystyle \\frac{\\left(a^{\\delta} c^{1 - \\delta}\\right)^{1 - \\rho}}{1 - \\rho}$"
      ],
      "text/plain": [
       "(a**delta*c**(1 - delta))**(1 - rho)/(1 - rho)"
      ]
     },
     "execution_count": 423,
     "metadata": {},
     "output_type": "execute_result"
    }
   ],
   "source": [
    "u = (c ** (1 - delta) * a**delta) ** (1 - rho) / (1 - rho)\n",
    "u"
   ]
  },
  {
   "cell_type": "code",
   "execution_count": 424,
   "metadata": {},
   "outputs": [
    {
     "data": {
      "text/latex": [
       "$\\displaystyle \\frac{\\left(a^{\\delta} c^{1 - \\delta}\\right)^{1 - \\rho} \\left(1 - \\delta\\right)}{c}$"
      ],
      "text/plain": [
       "(a**delta*c**(1 - delta))**(1 - rho)*(1 - delta)/c"
      ]
     },
     "execution_count": 424,
     "metadata": {},
     "output_type": "execute_result"
    }
   ],
   "source": [
    "uc = simplify(u.diff(c))\n",
    "uc"
   ]
  },
  {
   "cell_type": "code",
   "execution_count": 425,
   "metadata": {},
   "outputs": [
    {
     "data": {
      "text/latex": [
       "$\\displaystyle \\frac{\\delta \\left(a^{\\delta} c^{1 - \\delta}\\right)^{1 - \\rho}}{a}$"
      ],
      "text/plain": [
       "delta*(a**delta*c**(1 - delta))**(1 - rho)/a"
      ]
     },
     "execution_count": 425,
     "metadata": {},
     "output_type": "execute_result"
    }
   ],
   "source": [
    "ua = simplify(u.diff(a))\n",
    "ua"
   ]
  },
  {
   "cell_type": "code",
   "execution_count": 426,
   "metadata": {},
   "outputs": [
    {
     "data": {
      "text/latex": [
       "$\\displaystyle \\frac{\\left(a^{\\delta} c^{1 - \\delta}\\right)^{1 - \\rho} \\left(1 - \\delta\\right)}{c} - \\frac{\\delta \\left(a^{\\delta} c^{1 - \\delta}\\right)^{1 - \\rho}}{a}$"
      ],
      "text/plain": [
       "(a**delta*c**(1 - delta))**(1 - rho)*(1 - delta)/c - delta*(a**delta*c**(1 - delta))**(1 - rho)/a"
      ]
     },
     "execution_count": 426,
     "metadata": {},
     "output_type": "execute_result"
    }
   ],
   "source": [
    "f = simplify(uc) - simplify(ua)\n",
    "f"
   ]
  },
  {
   "cell_type": "code",
   "execution_count": 427,
   "metadata": {},
   "outputs": [
    {
     "data": {
      "text/latex": [
       "$\\displaystyle \\left(a^{- \\delta} \\left(\\left(a^{\\delta} c^{1 - \\delta}\\right)^{1 - \\rho}\\right)^{- \\frac{1}{\\rho - 1}}\\right)^{- \\frac{1}{\\delta - 1}}$"
      ],
      "text/plain": [
       "(1/(a**delta*((a**delta*c**(1 - delta))**(1 - rho))**(1/(rho - 1))))**(-1/(delta - 1))"
      ]
     },
     "execution_count": 427,
     "metadata": {},
     "output_type": "execute_result"
    }
   ],
   "source": [
    "g = ((f * c * a / (-a * delta + a - c * delta)) ** (1 / (1 - rho)) / a**delta) ** (\n",
    "    1 / (1 - delta)\n",
    ")\n",
    "simplify(g)"
   ]
  },
  {
   "cell_type": "code",
   "execution_count": 428,
   "metadata": {},
   "outputs": [
    {
     "data": {
      "text/latex": [
       "$\\displaystyle 0.00025 \\left(\\frac{c^{1.0} - 0.001 c^{2.0}}{0.0158113883008419 c^{0.5} - 1.58113883008419 \\cdot 10^{-5} c^{1.5}}\\right)^{2.0}$"
      ],
      "text/plain": [
       "0.00025*((c**1.0 - 0.001*c**2.0)/(0.0158113883008419*c**0.5 - 1.58113883008419e-5*c**1.5))**2.0"
      ]
     },
     "execution_count": 428,
     "metadata": {},
     "output_type": "execute_result"
    }
   ],
   "source": [
    "g_1 = g.subs({a: 1000, delta: 0.5, rho: 2})\n",
    "simplify(g_1)"
   ]
  },
  {
   "cell_type": "code",
   "execution_count": 429,
   "metadata": {},
   "outputs": [
    {
     "name": "stderr",
     "output_type": "stream",
     "text": [
      "<string>:1: RuntimeWarning: invalid value encountered in scalar power\n"
     ]
    },
    {
     "data": {
      "image/png": "[encoded data removed]",
      "text/plain": [
       "<Figure size 640x480 with 1 Axes>"
      ]
     },
     "metadata": {},
     "output_type": "display_data"
    },
    {
     "data": {
      "text/plain": [
       "<sympy.plotting.plot.Plot at 0x7fd589d195e0>"
      ]
     },
     "execution_count": 429,
     "metadata": {},
     "output_type": "execute_result"
    }
   ],
   "source": [
    "plot(g_1)"
   ]
  },
  {
   "cell_type": "code",
   "execution_count": 430,
   "metadata": {},
   "outputs": [],
   "source": [
    "util = x ** (1 - rho) / (1 - rho)"
   ]
  },
  {
   "cell_type": "code",
   "execution_count": 431,
   "metadata": {},
   "outputs": [
    {
     "data": {
      "text/latex": [
       "$\\displaystyle \\left(x^{- \\rho}\\right)^{- \\frac{1}{\\rho}}$"
      ],
      "text/plain": [
       "(x**(-rho))**(-1/rho)"
      ]
     },
     "execution_count": 431,
     "metadata": {},
     "output_type": "execute_result"
    }
   ],
   "source": [
    "simplify(simplify(util.diff(x) ** (-1 / rho)))"
   ]
  },
  {
   "cell_type": "code",
   "execution_count": null,
   "metadata": {},
   "outputs": [],
   "source": []
  }
 ],
 "metadata": {
  "kernelspec": {
   "display_name": "estimatingmicrodsops",
   "language": "python",
   "name": "python3"
  },
  "language_info": {
   "codemirror_mode": {
    "name": "ipython",
    "version": 3
   },
   "file_extension": ".py",
   "mimetype": "text/x-python",
   "name": "python",
   "nbconvert_exporter": "python",
   "pygments_lexer": "ipython3",
   "version": "3.9.16"
  },
  "orig_nbformat": 4
 },
 "nbformat": 4,
 "nbformat_minor": 2
}
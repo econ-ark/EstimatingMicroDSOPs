{
 "cells": [
  {
   "cell_type": "code",
   "execution_count": 1,
   "metadata": {},
   "outputs": [],
   "source": [
    "from estimark.scf import scf_data\n",
    "from estimark.parameters import age_mapping\n",
    "from estimark.estimation import get_empirical_moments\n",
    "import matplotlib.pyplot as plt"
   ]
  },
  {
   "cell_type": "code",
   "execution_count": 2,
   "metadata": {},
   "outputs": [
    {
     "data": {
      "text/html": [
       "<div>\n",
       "<style scoped>\n",
       "    .dataframe tbody tr th:only-of-type {\n",
       "        vertical-align: middle;\n",
       "    }\n",
       "\n",
       "    .dataframe tbody tr th {\n",
       "        vertical-align: top;\n",
       "    }\n",
       "\n",
       "    .dataframe thead th {\n",
       "        text-align: right;\n",
       "    }\n",
       "</style>\n",
       "<table border=\"1\" class=\"dataframe\">\n",
       "  <thead>\n",
       "    <tr style=\"text-align: right;\">\n",
       "      <th></th>\n",
       "      <th>age</th>\n",
       "      <th>age_group</th>\n",
       "      <th>wealth_income_ratio</th>\n",
       "      <th>weight</th>\n",
       "    </tr>\n",
       "  </thead>\n",
       "  <tbody>\n",
       "    <tr>\n",
       "      <th>30</th>\n",
       "      <td>31</td>\n",
       "      <td>(30,35]</td>\n",
       "      <td>6.698209</td>\n",
       "      <td>3676.299028</td>\n",
       "    </tr>\n",
       "    <tr>\n",
       "      <th>31</th>\n",
       "      <td>31</td>\n",
       "      <td>(30,35]</td>\n",
       "      <td>6.698209</td>\n",
       "      <td>3822.532451</td>\n",
       "    </tr>\n",
       "    <tr>\n",
       "      <th>32</th>\n",
       "      <td>31</td>\n",
       "      <td>(30,35]</td>\n",
       "      <td>6.698209</td>\n",
       "      <td>3779.582462</td>\n",
       "    </tr>\n",
       "    <tr>\n",
       "      <th>33</th>\n",
       "      <td>31</td>\n",
       "      <td>(30,35]</td>\n",
       "      <td>6.698209</td>\n",
       "      <td>3570.089875</td>\n",
       "    </tr>\n",
       "    <tr>\n",
       "      <th>34</th>\n",
       "      <td>31</td>\n",
       "      <td>(30,35]</td>\n",
       "      <td>6.698209</td>\n",
       "      <td>3803.353076</td>\n",
       "    </tr>\n",
       "    <tr>\n",
       "      <th>...</th>\n",
       "      <td>...</td>\n",
       "      <td>...</td>\n",
       "      <td>...</td>\n",
       "      <td>...</td>\n",
       "    </tr>\n",
       "    <tr>\n",
       "      <th>232510</th>\n",
       "      <td>43</td>\n",
       "      <td>(40,45]</td>\n",
       "      <td>9.602785</td>\n",
       "      <td>6283.187315</td>\n",
       "    </tr>\n",
       "    <tr>\n",
       "      <th>232511</th>\n",
       "      <td>43</td>\n",
       "      <td>(40,45]</td>\n",
       "      <td>11.445021</td>\n",
       "      <td>6639.658020</td>\n",
       "    </tr>\n",
       "    <tr>\n",
       "      <th>232512</th>\n",
       "      <td>43</td>\n",
       "      <td>(40,45]</td>\n",
       "      <td>11.547412</td>\n",
       "      <td>6580.343722</td>\n",
       "    </tr>\n",
       "    <tr>\n",
       "      <th>232513</th>\n",
       "      <td>43</td>\n",
       "      <td>(40,45]</td>\n",
       "      <td>10.413527</td>\n",
       "      <td>6515.081945</td>\n",
       "    </tr>\n",
       "    <tr>\n",
       "      <th>232514</th>\n",
       "      <td>43</td>\n",
       "      <td>(40,45]</td>\n",
       "      <td>10.317372</td>\n",
       "      <td>6663.876722</td>\n",
       "    </tr>\n",
       "  </tbody>\n",
       "</table>\n",
       "<p>76067 rows × 4 columns</p>\n",
       "</div>"
      ],
      "text/plain": [
       "        age age_group  wealth_income_ratio       weight\n",
       "30       31   (30,35]             6.698209  3676.299028\n",
       "31       31   (30,35]             6.698209  3822.532451\n",
       "32       31   (30,35]             6.698209  3779.582462\n",
       "33       31   (30,35]             6.698209  3570.089875\n",
       "34       31   (30,35]             6.698209  3803.353076\n",
       "...     ...       ...                  ...          ...\n",
       "232510   43   (40,45]             9.602785  6283.187315\n",
       "232511   43   (40,45]            11.445021  6639.658020\n",
       "232512   43   (40,45]            11.547412  6580.343722\n",
       "232513   43   (40,45]            10.413527  6515.081945\n",
       "232514   43   (40,45]            10.317372  6663.876722\n",
       "\n",
       "[76067 rows x 4 columns]"
      ]
     },
     "execution_count": 2,
     "metadata": {},
     "output_type": "execute_result"
    }
   ],
   "source": [
    "scf_data"
   ]
  },
  {
   "cell_type": "code",
   "execution_count": 3,
   "metadata": {},
   "outputs": [
    {
     "name": "stdout",
     "output_type": "stream",
     "text": [
      "Warning: Group (60,65] does not have any data.\n",
      "Warning: Group (65,70] does not have any data.\n"
     ]
    }
   ],
   "source": [
    "moments = get_empirical_moments(\n",
    "    data=scf_data,\n",
    "    variable=\"wealth_income_ratio\",\n",
    "    weights=\"weight\",\n",
    "    groups=\"age_group\",\n",
    "    mapping=age_mapping,\n",
    ")"
   ]
  },
  {
   "cell_type": "code",
   "execution_count": 4,
   "metadata": {},
   "outputs": [
    {
     "data": {
      "text/plain": [
       "{'(25,30]': 0.5574998121910544,\n",
       " '(30,35]': 0.9675607353906764,\n",
       " '(35,40]': 2.168068545096722,\n",
       " '(40,45]': 3.234950933121561,\n",
       " '(45,50]': 4.688547995398578,\n",
       " '(50,55]': 6.142846523177507,\n",
       " '(55,60]': 8.209944114318054,\n",
       " '(70,75]': 13.905111816750804,\n",
       " '(75,80]': 14.562181663837016,\n",
       " '(80,85]': 14.358754447244063,\n",
       " '(85,90]': 15.71527224435591,\n",
       " '(90,95]': 17.99554082928189}"
      ]
     },
     "execution_count": 4,
     "metadata": {},
     "output_type": "execute_result"
    }
   ],
   "source": [
    "moments"
   ]
  },
  {
   "cell_type": "code",
   "execution_count": 5,
   "metadata": {},
   "outputs": [
    {
     "data": {
      "text/plain": [
       "([<matplotlib.axis.XTick at 0x7fbbf9c59630>,\n",
       "  <matplotlib.axis.XTick at 0x7fbbf9c59600>,\n",
       "  <matplotlib.axis.XTick at 0x7fbbf9c58e20>,\n",
       "  <matplotlib.axis.XTick at 0x7fbbf9c99cf0>,\n",
       "  <matplotlib.axis.XTick at 0x7fbbf9c9a7a0>,\n",
       "  <matplotlib.axis.XTick at 0x7fbbf9c9b250>,\n",
       "  <matplotlib.axis.XTick at 0x7fbbf9c9a9b0>,\n",
       "  <matplotlib.axis.XTick at 0x7fbbf9c9bfd0>,\n",
       "  <matplotlib.axis.XTick at 0x7fbbf9cc4ac0>,\n",
       "  <matplotlib.axis.XTick at 0x7fbbf9cc5570>,\n",
       "  <matplotlib.axis.XTick at 0x7fbbf9cc6020>,\n",
       "  <matplotlib.axis.XTick at 0x7fbbf9cc5120>],\n",
       " [Text(0, 0, '(25,30]'),\n",
       "  Text(1, 0, '(30,35]'),\n",
       "  Text(2, 0, '(35,40]'),\n",
       "  Text(3, 0, '(40,45]'),\n",
       "  Text(4, 0, '(45,50]'),\n",
       "  Text(5, 0, '(50,55]'),\n",
       "  Text(6, 0, '(55,60]'),\n",
       "  Text(7, 0, '(70,75]'),\n",
       "  Text(8, 0, '(75,80]'),\n",
       "  Text(9, 0, '(80,85]'),\n",
       "  Text(10, 0, '(85,90]'),\n",
       "  Text(11, 0, '(90,95]')])"
      ]
     },
     "execution_count": 5,
     "metadata": {},
     "output_type": "execute_result"
    },
    {
     "data": {
      "image/png": "[encoded data removed]",
      "text/plain": [
       "<Figure size 640x480 with 1 Axes>"
      ]
     },
     "metadata": {},
     "output_type": "display_data"
    }
   ],
   "source": [
    "plt.plot(moments.values())\n",
    "plt.xticks(range(len(moments)), moments.keys(), rotation=45)"
   ]
  },
  {
   "cell_type": "code",
   "execution_count": 6,
   "metadata": {},
   "outputs": [],
   "source": [
    "from estimark.snp import snp_data"
   ]
  },
  {
   "cell_type": "code",
   "execution_count": 7,
   "metadata": {},
   "outputs": [
    {
     "data": {
      "text/html": [
       "<div>\n",
       "<style scoped>\n",
       "    .dataframe tbody tr th:only-of-type {\n",
       "        vertical-align: middle;\n",
       "    }\n",
       "\n",
       "    .dataframe tbody tr th {\n",
       "        vertical-align: top;\n",
       "    }\n",
       "\n",
       "    .dataframe thead th {\n",
       "        text-align: right;\n",
       "    }\n",
       "</style>\n",
       "<table border=\"1\" class=\"dataframe\">\n",
       "  <thead>\n",
       "    <tr style=\"text-align: right;\">\n",
       "      <th></th>\n",
       "      <th>age</th>\n",
       "      <th>share</th>\n",
       "      <th>age_group</th>\n",
       "    </tr>\n",
       "  </thead>\n",
       "  <tbody>\n",
       "    <tr>\n",
       "      <th>51</th>\n",
       "      <td>71</td>\n",
       "      <td>0.393936</td>\n",
       "      <td>(70,75]</td>\n",
       "    </tr>\n",
       "    <tr>\n",
       "      <th>52</th>\n",
       "      <td>72</td>\n",
       "      <td>0.382074</td>\n",
       "      <td>(70,75]</td>\n",
       "    </tr>\n",
       "    <tr>\n",
       "      <th>53</th>\n",
       "      <td>73</td>\n",
       "      <td>0.370212</td>\n",
       "      <td>(70,75]</td>\n",
       "    </tr>\n",
       "    <tr>\n",
       "      <th>54</th>\n",
       "      <td>74</td>\n",
       "      <td>0.363326</td>\n",
       "      <td>(70,75]</td>\n",
       "    </tr>\n",
       "    <tr>\n",
       "      <th>55</th>\n",
       "      <td>75</td>\n",
       "      <td>0.356440</td>\n",
       "      <td>(70,75]</td>\n",
       "    </tr>\n",
       "    <tr>\n",
       "      <th>56</th>\n",
       "      <td>76</td>\n",
       "      <td>0.349554</td>\n",
       "      <td>(75,80]</td>\n",
       "    </tr>\n",
       "    <tr>\n",
       "      <th>57</th>\n",
       "      <td>77</td>\n",
       "      <td>0.342668</td>\n",
       "      <td>(75,80]</td>\n",
       "    </tr>\n",
       "    <tr>\n",
       "      <th>58</th>\n",
       "      <td>78</td>\n",
       "      <td>0.335781</td>\n",
       "      <td>(75,80]</td>\n",
       "    </tr>\n",
       "    <tr>\n",
       "      <th>59</th>\n",
       "      <td>79</td>\n",
       "      <td>0.332880</td>\n",
       "      <td>(75,80]</td>\n",
       "    </tr>\n",
       "    <tr>\n",
       "      <th>60</th>\n",
       "      <td>80</td>\n",
       "      <td>0.329979</td>\n",
       "      <td>(75,80]</td>\n",
       "    </tr>\n",
       "    <tr>\n",
       "      <th>61</th>\n",
       "      <td>81</td>\n",
       "      <td>0.327077</td>\n",
       "      <td>(80,85]</td>\n",
       "    </tr>\n",
       "    <tr>\n",
       "      <th>62</th>\n",
       "      <td>82</td>\n",
       "      <td>0.324176</td>\n",
       "      <td>(80,85]</td>\n",
       "    </tr>\n",
       "    <tr>\n",
       "      <th>63</th>\n",
       "      <td>83</td>\n",
       "      <td>0.321274</td>\n",
       "      <td>(80,85]</td>\n",
       "    </tr>\n",
       "    <tr>\n",
       "      <th>64</th>\n",
       "      <td>84</td>\n",
       "      <td>0.321274</td>\n",
       "      <td>(80,85]</td>\n",
       "    </tr>\n",
       "    <tr>\n",
       "      <th>65</th>\n",
       "      <td>85</td>\n",
       "      <td>0.321274</td>\n",
       "      <td>(80,85]</td>\n",
       "    </tr>\n",
       "    <tr>\n",
       "      <th>66</th>\n",
       "      <td>86</td>\n",
       "      <td>0.321274</td>\n",
       "      <td>(85,90]</td>\n",
       "    </tr>\n",
       "    <tr>\n",
       "      <th>67</th>\n",
       "      <td>87</td>\n",
       "      <td>0.321274</td>\n",
       "      <td>(85,90]</td>\n",
       "    </tr>\n",
       "    <tr>\n",
       "      <th>68</th>\n",
       "      <td>88</td>\n",
       "      <td>0.321274</td>\n",
       "      <td>(85,90]</td>\n",
       "    </tr>\n",
       "    <tr>\n",
       "      <th>69</th>\n",
       "      <td>89</td>\n",
       "      <td>0.321274</td>\n",
       "      <td>(85,90]</td>\n",
       "    </tr>\n",
       "    <tr>\n",
       "      <th>70</th>\n",
       "      <td>90</td>\n",
       "      <td>0.321274</td>\n",
       "      <td>(85,90]</td>\n",
       "    </tr>\n",
       "    <tr>\n",
       "      <th>71</th>\n",
       "      <td>91</td>\n",
       "      <td>0.321274</td>\n",
       "      <td>(90,95]</td>\n",
       "    </tr>\n",
       "    <tr>\n",
       "      <th>72</th>\n",
       "      <td>92</td>\n",
       "      <td>0.321274</td>\n",
       "      <td>(90,95]</td>\n",
       "    </tr>\n",
       "    <tr>\n",
       "      <th>73</th>\n",
       "      <td>93</td>\n",
       "      <td>0.321274</td>\n",
       "      <td>(90,95]</td>\n",
       "    </tr>\n",
       "    <tr>\n",
       "      <th>74</th>\n",
       "      <td>94</td>\n",
       "      <td>0.321274</td>\n",
       "      <td>(90,95]</td>\n",
       "    </tr>\n",
       "    <tr>\n",
       "      <th>75</th>\n",
       "      <td>95</td>\n",
       "      <td>0.321274</td>\n",
       "      <td>(90,95]</td>\n",
       "    </tr>\n",
       "  </tbody>\n",
       "</table>\n",
       "</div>"
      ],
      "text/plain": [
       "    age     share age_group\n",
       "51   71  0.393936   (70,75]\n",
       "52   72  0.382074   (70,75]\n",
       "53   73  0.370212   (70,75]\n",
       "54   74  0.363326   (70,75]\n",
       "55   75  0.356440   (70,75]\n",
       "56   76  0.349554   (75,80]\n",
       "57   77  0.342668   (75,80]\n",
       "58   78  0.335781   (75,80]\n",
       "59   79  0.332880   (75,80]\n",
       "60   80  0.329979   (75,80]\n",
       "61   81  0.327077   (80,85]\n",
       "62   82  0.324176   (80,85]\n",
       "63   83  0.321274   (80,85]\n",
       "64   84  0.321274   (80,85]\n",
       "65   85  0.321274   (80,85]\n",
       "66   86  0.321274   (85,90]\n",
       "67   87  0.321274   (85,90]\n",
       "68   88  0.321274   (85,90]\n",
       "69   89  0.321274   (85,90]\n",
       "70   90  0.321274   (85,90]\n",
       "71   91  0.321274   (90,95]\n",
       "72   92  0.321274   (90,95]\n",
       "73   93  0.321274   (90,95]\n",
       "74   94  0.321274   (90,95]\n",
       "75   95  0.321274   (90,95]"
      ]
     },
     "execution_count": 7,
     "metadata": {},
     "output_type": "execute_result"
    }
   ],
   "source": [
    "snp_data"
   ]
  },
  {
   "cell_type": "code",
   "execution_count": 8,
   "metadata": {},
   "outputs": [
    {
     "name": "stdout",
     "output_type": "stream",
     "text": [
      "Warning: Group (25,30] does not have any data.\n",
      "Warning: Group (30,35] does not have any data.\n",
      "Warning: Group (35,40] does not have any data.\n",
      "Warning: Group (40,45] does not have any data.\n",
      "Warning: Group (45,50] does not have any data.\n",
      "Warning: Group (50,55] does not have any data.\n",
      "Warning: Group (55,60] does not have any data.\n",
      "Warning: Group (60,65] does not have any data.\n",
      "Warning: Group (65,70] does not have any data.\n"
     ]
    }
   ],
   "source": [
    "share_moments = get_empirical_moments(\n",
    "    data=snp_data,\n",
    "    variable=\"share\",\n",
    "    groups=\"age_group\",\n",
    "    mapping=age_mapping,\n",
    "    weights=None,\n",
    ")"
   ]
  },
  {
   "cell_type": "code",
   "execution_count": 9,
   "metadata": {},
   "outputs": [
    {
     "data": {
      "text/plain": [
       "([<matplotlib.axis.XTick at 0x7fbbf9b10850>,\n",
       "  <matplotlib.axis.XTick at 0x7fbbf9b10820>,\n",
       "  <matplotlib.axis.XTick at 0x7fbbf9b10430>,\n",
       "  <matplotlib.axis.XTick at 0x7fbbf9b40d90>,\n",
       "  <matplotlib.axis.XTick at 0x7fbbf9b41840>],\n",
       " [Text(0, 0, '(70,75]'),\n",
       "  Text(1, 0, '(75,80]'),\n",
       "  Text(2, 0, '(80,85]'),\n",
       "  Text(3, 0, '(85,90]'),\n",
       "  Text(4, 0, '(90,95]')])"
      ]
     },
     "execution_count": 9,
     "metadata": {},
     "output_type": "execute_result"
    },
    {
     "data": {
      "image/png": "[encoded data removed]",
      "text/plain": [
       "<Figure size 640x480 with 1 Axes>"
      ]
     },
     "metadata": {},
     "output_type": "display_data"
    }
   ],
   "source": [
    "plt.plot(share_moments.values())\n",
    "plt.xticks(range(len(share_moments)), share_moments.keys(), rotation=45)"
   ]
  },
  {
   "cell_type": "code",
   "execution_count": null,
   "metadata": {},
   "outputs": [],
   "source": []
  }
 ],
 "metadata": {
  "kernelspec": {
   "display_name": "estimatingmicrodsops",
   "language": "python",
   "name": "python3"
  },
  "language_info": {
   "codemirror_mode": {
    "name": "ipython",
    "version": 3
   },
   "file_extension": ".py",
   "mimetype": "text/x-python",
   "name": "python",
   "nbconvert_exporter": "python",
   "pygments_lexer": "ipython3",
   "version": "3.10.14"
  }
 },
 "nbformat": 4,
 "nbformat_minor": 2
}

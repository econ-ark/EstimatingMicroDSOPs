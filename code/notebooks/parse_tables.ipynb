{
 "cells": [
  {
   "cell_type": "code",
   "execution_count": 17,
   "metadata": {},
   "outputs": [],
   "source": [
    "from pathlib import Path\n",
    "import pandas as pd"
   ]
  },
  {
   "cell_type": "code",
   "execution_count": 18,
   "metadata": {},
   "outputs": [],
   "source": [
    "csv_file_dir = Path(\"../../content/tables/TRP/\")\n",
    "params_to_keep = set(\n",
    "    [\"CRRA\", \"BeqFac\", \"BeqShift\", \"WealthShare\", \"WealthShift\", \"criterion\"]\n",
    ")\n",
    "\n",
    "# Get all files in the directory\n",
    "files = [f for f in csv_file_dir.iterdir() if f.is_file()]\n",
    "\n",
    "parameters = []\n",
    "\n",
    "# Iterate over each file\n",
    "for file in files:\n",
    "    file_name = file.stem.replace(\"_estimate_results\", \"\")\n",
    "    # Read the CSV file and convert it to a dictionary\n",
    "    res = pd.read_csv(file, header=None)\n",
    "    res = res.set_index(res.columns[0])[res.columns[1]].to_dict()\n",
    "\n",
    "    # Create a new dictionary for this file\n",
    "    file_parameters = {}\n",
    "\n",
    "    labor = 0\n",
    "    stock = 0\n",
    "\n",
    "    file_parameters[\"Name\"] = file_name\n",
    "\n",
    "    # Iterate over each parameter we want to keep\n",
    "    for param in params_to_keep:\n",
    "        # If the parameter is in the dictionary, add it to the file's parameters\n",
    "        if param in res:\n",
    "            file_parameters[param] = res[param]\n",
    "\n",
    "    # Add the file's parameters to the overall parameters dictionary\n",
    "    parameters.append(file_parameters)"
   ]
  },
  {
   "cell_type": "code",
   "execution_count": 19,
   "metadata": {},
   "outputs": [
    {
     "data": {
      "text/html": [
       "<div>\n",
       "<style scoped>\n",
       "    .dataframe tbody tr th:only-of-type {\n",
       "        vertical-align: middle;\n",
       "    }\n",
       "\n",
       "    .dataframe tbody tr th {\n",
       "        vertical-align: top;\n",
       "    }\n",
       "\n",
       "    .dataframe thead th {\n",
       "        text-align: right;\n",
       "    }\n",
       "</style>\n",
       "<table border=\"1\" class=\"dataframe\">\n",
       "  <thead>\n",
       "    <tr style=\"text-align: right;\">\n",
       "      <th></th>\n",
       "      <th>Name</th>\n",
       "      <th>criterion</th>\n",
       "      <th>CRRA</th>\n",
       "      <th>WealthShare</th>\n",
       "      <th>BeqFac</th>\n",
       "      <th>BeqShift</th>\n",
       "    </tr>\n",
       "  </thead>\n",
       "  <tbody>\n",
       "    <tr>\n",
       "      <th>0</th>\n",
       "      <td>Portfolio</td>\n",
       "      <td>0.895</td>\n",
       "      <td>6.374</td>\n",
       "      <td></td>\n",
       "      <td></td>\n",
       "      <td></td>\n",
       "    </tr>\n",
       "    <tr>\n",
       "      <th>1</th>\n",
       "      <td>WarmGlowPortfolio</td>\n",
       "      <td>7.719</td>\n",
       "      <td>4.706</td>\n",
       "      <td></td>\n",
       "      <td>46.465</td>\n",
       "      <td>16.966</td>\n",
       "    </tr>\n",
       "    <tr>\n",
       "      <th>2</th>\n",
       "      <td>WealthPortfolio</td>\n",
       "      <td>0.347</td>\n",
       "      <td>3.386</td>\n",
       "      <td>0.536</td>\n",
       "      <td></td>\n",
       "      <td></td>\n",
       "    </tr>\n",
       "  </tbody>\n",
       "</table>\n",
       "</div>"
      ],
      "text/plain": [
       "                Name  criterion   CRRA WealthShare  BeqFac BeqShift\n",
       "0          Portfolio      0.895  6.374                             \n",
       "1  WarmGlowPortfolio      7.719  4.706              46.465   16.966\n",
       "2    WealthPortfolio      0.347  3.386       0.536                 "
      ]
     },
     "execution_count": 19,
     "metadata": {},
     "output_type": "execute_result"
    }
   ],
   "source": [
    "def format_df(df):\n",
    "    for col in df.columns:\n",
    "        if col == \"Name\":\n",
    "            continue\n",
    "        # Check if column is of float type\n",
    "        if col in params_to_keep:\n",
    "            df[col] = df[col].astype(float).round(3).fillna(\"\")\n",
    "        # Check if column contains only 0 and 1\n",
    "        else:\n",
    "            df[col] = df[col].map({0: \"\", 1: \"✔️\"})\n",
    "    return df\n",
    "\n",
    "\n",
    "# Define the order of columns\n",
    "column_order = [\"Name\", \"criterion\", \"CRRA\",\n",
    "                \"WealthShare\", \"BeqFac\", \"BeqShift\"]\n",
    "\n",
    "df = pd.DataFrame(parameters)\n",
    "formatted_df = format_df(df)[column_order].sort_index()\n",
    "formatted_df\n",
    "\n",
    "\n",
    "# Life cycle portfolio choice\n",
    "# Bequest portfolio Choice\n",
    "# TRP Life cycle portfolio choice\n",
    "# leave out wealth shift"
   ]
  },
  {
   "cell_type": "code",
   "execution_count": 20,
   "metadata": {},
   "outputs": [],
   "source": [
    "formatted_df.to_latex(\"../../content/tables/parameters.tex\", index=False)"
   ]
  },
  {
   "cell_type": "code",
   "execution_count": null,
   "metadata": {},
   "outputs": [],
   "source": []
  },
  {
   "cell_type": "markdown",
   "metadata": {},
   "source": []
  }
 ],
 "metadata": {
  "kernelspec": {
   "display_name": "estimatingmicrodsops",
   "language": "python",
   "name": "python3"
  },
  "language_info": {
   "codemirror_mode": {
    "name": "ipython",
    "version": 3
   },
   "file_extension": ".py",
   "mimetype": "text/x-python",
   "name": "python",
   "nbconvert_exporter": "python",
   "pygments_lexer": "ipython3",
   "version": "3.12.3"
  }
 },
 "nbformat": 4,
 "nbformat_minor": 2
}
